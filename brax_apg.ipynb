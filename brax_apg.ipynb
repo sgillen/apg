{
 "cells": [
  {
   "cell_type": "code",
   "execution_count": null,
   "metadata": {},
   "outputs": [],
   "source": [
    "from absl.testing import absltest\n",
    "from absl.testing import parameterized\n",
    "from brax import envs\n",
    "from brax.training import apg\n",
    "\n",
    "a, b, metrics = apg.train(\n",
    "    environment_fn=envs.create_fn('acrobot'),\n",
    "    episode_length=500,\n",
    "    action_repeat=1,\n",
    "    num_envs=16,\n",
    "    learning_rate=1e-3,\n",
    "    normalize_observations=True,\n",
    "    log_frequency=200,\n",
    "    truncation_length=25,\n",
    ")"
   ]
  },
  {
   "cell_type": "code",
   "execution_count": null,
   "metadata": {},
   "outputs": [],
   "source": [
    "metrics"
   ]
  }
 ],
 "metadata": {
  "kernelspec": {
   "display_name": "Brax",
   "language": "python",
   "name": "brax"
  },
  "language_info": {
   "codemirror_mode": {
    "name": "ipython",
    "version": 3
   },
   "file_extension": ".py",
   "mimetype": "text/x-python",
   "name": "python",
   "nbconvert_exporter": "python",
   "pygments_lexer": "ipython3",
   "version": "3.9.9"
  }
 },
 "nbformat": 4,
 "nbformat_minor": 4
}
