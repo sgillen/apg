{
 "cells": [
  {
   "cell_type": "code",
   "execution_count": 1,
   "metadata": {},
   "outputs": [
    {
     "name": "stdout",
     "output_type": "stream",
     "text": [
      "(128, 4)\n",
      "FrozenDict({\n",
      "    params: {\n",
      "        hidden_0: {\n",
      "            bias: (32,),\n",
      "            kernel: (4, 32),\n",
      "        },\n",
      "        hidden_1: {\n",
      "            bias: (32,),\n",
      "            kernel: (32, 32),\n",
      "        },\n",
      "        hidden_2: {\n",
      "            bias: (32,),\n",
      "            kernel: (32, 32),\n",
      "        },\n",
      "        hidden_3: {\n",
      "            bias: (32,),\n",
      "            kernel: (32, 32),\n",
      "        },\n",
      "        hidden_4: {\n",
      "            bias: (2,),\n",
      "            kernel: (32, 2),\n",
      "        },\n",
      "    },\n",
      "})\n"
     ]
    }
   ],
   "source": [
    "from absl.testing import absltest\n",
    "from absl.testing import parameterized\n",
    "from brax import envs\n",
    "from brax.training import apg\n",
    "\n",
    "a, b, metrics = apg.train(\n",
    "    environment_fn=envs.create_fn('acrobot'),\n",
    "    episode_length=500,\n",
    "    action_repeat=1,\n",
    "    num_envs=24,\n",
    "    learning_rate=1e-3,\n",
    "    normalize_observations=True,\n",
    "    log_frequency=200,\n",
    "    truncation_length=None,\n",
    ")"
   ]
  },
  {
   "cell_type": "code",
   "execution_count": 2,
   "metadata": {},
   "outputs": [
    {
     "data": {
      "text/plain": [
       "{'eval/episode_alive_bonus': DeviceArray(0., dtype=float32),\n",
       " 'eval/episode_dist_penalty': DeviceArray(0., dtype=float32),\n",
       " 'eval/episode_r_tot': DeviceArray(-4111.173, dtype=float32),\n",
       " 'eval/episode_reward': DeviceArray(-4111.173, dtype=float32),\n",
       " 'eval/episode_vel_penalty': DeviceArray(0., dtype=float32),\n",
       " 'eval/completed_episodes': DeviceArray(128., dtype=float32),\n",
       " 'eval/avg_episode_length': DeviceArray(500., dtype=float32),\n",
       " 'speed/sps': 4534.484830739431,\n",
       " 'speed/eval_sps': 194602.91532339036,\n",
       " 'speed/training_walltime': 554.1645550727844,\n",
       " 'speed/timestamp': 554.1645550727844,\n",
       " 'train/grad_norm': DeviceArray(1.1351087, dtype=float32),\n",
       " 'train/params_norm': DeviceArray(11.503451, dtype=float32)}"
      ]
     },
     "execution_count": 2,
     "metadata": {},
     "output_type": "execute_result"
    }
   ],
   "source": [
    "metrics"
   ]
  },
  {
   "cell_type": "code",
   "execution_count": null,
   "metadata": {},
   "outputs": [],
   "source": []
  }
 ],
 "metadata": {
  "kernelspec": {
   "display_name": "Brax",
   "language": "python",
   "name": "brax"
  },
  "language_info": {
   "codemirror_mode": {
    "name": "ipython",
    "version": 3
   },
   "file_extension": ".py",
   "mimetype": "text/x-python",
   "name": "python",
   "nbconvert_exporter": "python",
   "pygments_lexer": "ipython3",
   "version": "3.9.9"
  }
 },
 "nbformat": 4,
 "nbformat_minor": 4
}
