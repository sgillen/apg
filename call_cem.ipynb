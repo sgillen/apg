{
 "cells": [
  {
   "cell_type": "code",
   "execution_count": 1,
   "metadata": {},
   "outputs": [
    {
     "data": {
      "text/plain": [
       "1"
      ]
     },
     "execution_count": 1,
     "metadata": {},
     "output_type": "execute_result"
    }
   ],
   "source": [
    "import os\n",
    "os.environ['XLA_FLAGS'] = '--xla_force_host_platform_device_count=24'\n",
    "\n",
    "#from jax.config import config; config.update(\"jax_enable_x64\", True)\n",
    "\n",
    "%load_ext autoreload\n",
    "%autoreload 2\n",
    "\n",
    "from brax import envs\n",
    "from brax.io import html\n",
    "from brax.training import normalization\n",
    "\n",
    "import flax\n",
    "import jax\n",
    "import jax.numpy as jnp\n",
    "from brax.envs import create_fn\n",
    "\n",
    "from IPython.display import HTML, clear_output\n",
    "\n",
    "import optax\n",
    "\n",
    "import matplotlib.pyplot as plt\n",
    "import numpy as np\n",
    "\n",
    "from controllers import GruController, MlpController, LinearController\n",
    "from common import do_local_apg, add_guassian_noise, add_guassian_noise_mixed_std, do_one_rollout, cem_apg\n",
    "\n",
    "from functools import partial\n",
    "\n",
    "\n",
    "jax.config.update('jax_platform_name', 'cpu')\n",
    "\n",
    "def visualize(sys, qps, height=480):\n",
    "  \"\"\"Renders a 3D visualization of the environment.\"\"\"\n",
    "  return HTML(html.render(sys, qps, height=height))\n",
    "\n",
    "len(jax.devices())"
   ]
  },
  {
   "cell_type": "code",
   "execution_count": null,
   "metadata": {},
   "outputs": [
    {
     "name": "stdout",
     "output_type": "stream",
     "text": [
      "64\n"
     ]
    }
   ],
   "source": [
    "env_name = \"inverted_pendulum_swingup\"  # @param ['ant', 'humanoid', 'fetch', 'grasp', 'halfcheetah', 'walker2d, 'ur5e', 'reacher', bball_1dof]\n",
    "\n",
    "episode_length = 500\n",
    "action_repeat = 1\n",
    "env_fn = create_fn(env_name = env_name, action_repeat=action_repeat, batch_size=None, auto_reset=False)\n",
    "env = env_fn()\n",
    "\n",
    "policy_size = int(2**jnp.ceil(jnp.log2(env.observation_size*4)))\n",
    "print(policy_size)\n",
    "policy = GruController(env.observation_size, env.action_size, 16)\n",
    "\n",
    "inference_fn, params, metrics = cem_apg(env_fn,\n",
    "                                        100,\n",
    "                                        episode_length = episode_length,\n",
    "                                        action_repeat = action_repeat,\n",
    "                                        apg_epochs = 75,\n",
    "                                        cem_epochs = 1,\n",
    "                                        batch_size = 1,\n",
    "                                        truncation_length = None,\n",
    "                                        learning_rate = 5e-4,\n",
    "                                        clipping = 1e9,\n",
    "                                        initial_std = 0.01,\n",
    "                                        num_elite = 8,\n",
    "                                        eps = 0.0,\n",
    "                                        normalize_observations=True,\n",
    "                                        policy = policy\n",
    "                                       )\n",
    "\n",
    "\n",
    "\n",
    "\n"
   ]
  },
  {
   "cell_type": "code",
   "execution_count": null,
   "metadata": {},
   "outputs": [],
   "source": []
  }
 ],
 "metadata": {
  "kernelspec": {
   "display_name": "Brax",
   "language": "python",
   "name": "brax"
  },
  "language_info": {
   "codemirror_mode": {
    "name": "ipython",
    "version": 3
   },
   "file_extension": ".py",
   "mimetype": "text/x-python",
   "name": "python",
   "nbconvert_exporter": "python",
   "pygments_lexer": "ipython3",
   "version": "3.9.9"
  }
 },
 "nbformat": 4,
 "nbformat_minor": 4
}
