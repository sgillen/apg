{
 "cells": [
  {
   "cell_type": "code",
   "execution_count": 4,
   "metadata": {},
   "outputs": [
    {
     "name": "stdout",
     "output_type": "stream",
     "text": [
      "The autoreload extension is already loaded. To reload it, use:\n",
      "  %reload_ext autoreload\n"
     ]
    }
   ],
   "source": [
    "import os\n",
    "import jax\n",
    "import pickle\n",
    "\n",
    "os.environ['XLA_FLAGS'] = '--xla_force_host_platform_device_count=24'\n",
    "jax.config.update('jax_platform_name', 'cpu')\n",
    "\n",
    "#from jax.config import config; config.update(\"jax_enable_x64\", True)\n",
    "\n",
    "%load_ext autoreload\n",
    "%autoreload 2\n",
    "\n",
    "from brax import envs\n",
    "from brax.io import html, model\n",
    "from brax.training import normalization\n",
    "\n",
    "import flax\n",
    "import jax.numpy as jnp\n",
    "from brax.envs import create_fn\n",
    "\n",
    "from IPython.display import HTML, clear_output\n",
    "\n",
    "import optax\n",
    "\n",
    "import matplotlib.pyplot as plt\n",
    "import numpy as np\n",
    "\n",
    "from controllers import GruController, MlpController, LinearController\n",
    "\n",
    "from apg import apg\n",
    "\n",
    "from functools import partial\n",
    "\n",
    "def visualize(sys, qps, height=480):\n",
    "  \"\"\"Renders a 3D visualization of the environment.\"\"\"\n",
    "  return HTML(html.render(sys, qps, height=height))\n",
    "\n",
    "len(jax.devices())\n",
    "\n",
    "save_dir = \"save_1_apg\""
   ]
  },
  {
   "cell_type": "code",
   "execution_count": 8,
   "metadata": {},
   "outputs": [
    {
     "data": {
      "image/png": "[encoded data removed]",
      "text/plain": [
       "<Figure size 432x288 with 1 Axes>"
      ]
     },
     "metadata": {
      "needs_background": "light"
     },
     "output_type": "display_data"
    },
    {
     "data": {
      "image/png": "[encoded data removed]",
      "text/plain": [
       "<Figure size 432x288 with 1 Axes>"
      ]
     },
     "metadata": {
      "needs_background": "light"
     },
     "output_type": "display_data"
    },
    {
     "name": "stdout",
     "output_type": "stream",
     "text": [
      " Iteration 2 --------------------------------\n",
      "0 : reward: -4432.25048828125 -> -3729.618896484375\n",
      "1 : reward: -4564.505859375 -> -3971.60595703125\n",
      "2 : reward: -4548.1787109375 -> -3989.986328125\n",
      "3 : reward: -4813.3583984375 -> -4001.477783203125\n",
      "4 : reward: -4448.5283203125 -> -4009.833740234375\n",
      "5 : reward: -4648.080078125 -> -4018.27587890625\n",
      "6 : reward: -4443.322265625 -> -4034.671142578125\n",
      "7 : reward: -4525.318359375 -> -4057.91015625\n",
      "---\n",
      "8 : reward: -4731.92919921875 -> -4061.976318359375\n",
      "9 : reward: -4684.6826171875 -> -4077.239990234375\n",
      "10 : reward: -4584.13671875 -> -4087.15625\n",
      "11 : reward: -4287.0341796875 -> -4088.264892578125\n",
      "12 : reward: -4512.388671875 -> -4095.362548828125\n",
      "13 : reward: -5105.0419921875 -> -4095.649658203125\n",
      "14 : reward: -4517.72265625 -> -4099.96044921875\n",
      "15 : reward: -4710.025390625 -> -4121.4873046875\n",
      "16 : reward: -4353.58544921875 -> -4159.39599609375\n",
      "17 : reward: -4363.55224609375 -> -4250.17138671875\n",
      "18 : reward: -4657.19921875 -> -4677.4501953125\n",
      "19 : reward: -4706.52001953125 -> -4686.01123046875\n",
      "20 : reward: -4702.6474609375 -> -4686.35107421875\n",
      "21 : reward: -4869.76123046875 -> -4687.3759765625\n",
      "22 : reward: -4756.580078125 -> -4691.19384765625\n",
      "23 : reward: -4326.3115234375 -> -4707.94140625\n",
      "-------------------------------------------------\n",
      "cem: -3729.618896484375 -> -4312.373046875\n",
      "\n"
     ]
    },
    {
     "ename": "KeyboardInterrupt",
     "evalue": "",
     "output_type": "error",
     "traceback": [
      "\u001b[0;31m---------------------------------------------------------------------------\u001b[0m",
      "\u001b[0;31mKeyboardInterrupt\u001b[0m                         Traceback (most recent call last)",
      "\u001b[0;32m/tmp/ipykernel_11283/3998709612.py\u001b[0m in \u001b[0;36m<module>\u001b[0;34m\u001b[0m\n\u001b[1;32m     14\u001b[0m \u001b[0;34m\u001b[0m\u001b[0m\n\u001b[1;32m     15\u001b[0m     \u001b[0;32mfor\u001b[0m \u001b[0mi\u001b[0m \u001b[0;32min\u001b[0m \u001b[0mrange\u001b[0m\u001b[0;34m(\u001b[0m\u001b[0;36m8\u001b[0m\u001b[0;34m)\u001b[0m\u001b[0;34m:\u001b[0m\u001b[0;34m\u001b[0m\u001b[0;34m\u001b[0m\u001b[0m\n\u001b[0;32m---> 16\u001b[0;31m         inference_fn, params, rewards = cem_apg(env_fn,\n\u001b[0m\u001b[1;32m     17\u001b[0m                                                 \u001b[0;36m20\u001b[0m\u001b[0;34m,\u001b[0m\u001b[0;34m\u001b[0m\u001b[0;34m\u001b[0m\u001b[0m\n\u001b[1;32m     18\u001b[0m                                                 \u001b[0mkey\u001b[0m\u001b[0;34m=\u001b[0m\u001b[0mjax\u001b[0m\u001b[0;34m.\u001b[0m\u001b[0mrandom\u001b[0m\u001b[0;34m.\u001b[0m\u001b[0mPRNGKey\u001b[0m\u001b[0;34m(\u001b[0m\u001b[0mi\u001b[0m\u001b[0;34m)\u001b[0m\u001b[0;34m,\u001b[0m\u001b[0;34m\u001b[0m\u001b[0;34m\u001b[0m\u001b[0m\n",
      "\u001b[0;32m~/work/apg/ce_apg.py\u001b[0m in \u001b[0;36mcem_apg\u001b[0;34m(env_fn, total_epochs, episode_length, action_repeat, apg_epochs, batch_size, key, normalize_observations, truncation_length, learning_rate, clipping, initial_std, num_elite, eps, policy, print_freq)\u001b[0m\n\u001b[1;32m    373\u001b[0m         \u001b[0mpolicy_params_with_noise\u001b[0m\u001b[0;34m,\u001b[0m \u001b[0mrewards_lists\u001b[0m \u001b[0;34m=\u001b[0m \u001b[0mdo_apg_pmap\u001b[0m\u001b[0;34m(\u001b[0m\u001b[0mapg_epochs\u001b[0m\u001b[0;34m,\u001b[0m \u001b[0menv_fn\u001b[0m\u001b[0;34m,\u001b[0m \u001b[0mpolicy\u001b[0m\u001b[0;34m.\u001b[0m\u001b[0mapply\u001b[0m\u001b[0;34m,\u001b[0m \u001b[0mnormalizer_params\u001b[0m\u001b[0;34m,\u001b[0m \u001b[0mpolicy_params_with_noise\u001b[0m\u001b[0;34m,\u001b[0m \u001b[0mtrain_keys\u001b[0m\u001b[0;34m,\u001b[0m \u001b[0mlearning_rate\u001b[0m\u001b[0;34m,\u001b[0m \u001b[0mepisode_length\u001b[0m\u001b[0;34m,\u001b[0m \u001b[0maction_repeat\u001b[0m\u001b[0;34m,\u001b[0m \u001b[0mnormalize_observations\u001b[0m\u001b[0;34m,\u001b[0m \u001b[0mbatch_size\u001b[0m\u001b[0;34m,\u001b[0m \u001b[0mclipping\u001b[0m\u001b[0;34m,\u001b[0m \u001b[0mtruncation_length\u001b[0m\u001b[0;34m)\u001b[0m\u001b[0;34m\u001b[0m\u001b[0;34m\u001b[0m\u001b[0m\n\u001b[1;32m    374\u001b[0m \u001b[0;34m\u001b[0m\u001b[0m\n\u001b[0;32m--> 375\u001b[0;31m         \u001b[0mreward_sums\u001b[0m \u001b[0;34m=\u001b[0m \u001b[0;34m[\u001b[0m\u001b[0mjnp\u001b[0m\u001b[0;34m.\u001b[0m\u001b[0mmean\u001b[0m\u001b[0;34m(\u001b[0m\u001b[0mrew\u001b[0m\u001b[0;34m[\u001b[0m\u001b[0;34m-\u001b[0m\u001b[0;36m5\u001b[0m\u001b[0;34m:\u001b[0m\u001b[0;34m]\u001b[0m\u001b[0;34m)\u001b[0m \u001b[0;32mfor\u001b[0m \u001b[0mrew\u001b[0m \u001b[0;32min\u001b[0m \u001b[0mrewards_lists\u001b[0m\u001b[0;34m]\u001b[0m\u001b[0;34m\u001b[0m\u001b[0;34m\u001b[0m\u001b[0m\n\u001b[0m\u001b[1;32m    376\u001b[0m         \u001b[0mtop_idx\u001b[0m \u001b[0;34m=\u001b[0m \u001b[0msorted\u001b[0m\u001b[0;34m(\u001b[0m\u001b[0mrange\u001b[0m\u001b[0;34m(\u001b[0m\u001b[0mlen\u001b[0m\u001b[0;34m(\u001b[0m\u001b[0mreward_sums\u001b[0m\u001b[0;34m)\u001b[0m\u001b[0;34m)\u001b[0m\u001b[0;34m,\u001b[0m \u001b[0mkey\u001b[0m\u001b[0;34m=\u001b[0m\u001b[0;32mlambda\u001b[0m \u001b[0mk\u001b[0m\u001b[0;34m:\u001b[0m \u001b[0mreward_sums\u001b[0m\u001b[0;34m[\u001b[0m\u001b[0mk\u001b[0m\u001b[0;34m]\u001b[0m\u001b[0;34m,\u001b[0m \u001b[0mreverse\u001b[0m\u001b[0;34m=\u001b[0m\u001b[0;32mTrue\u001b[0m\u001b[0;34m)\u001b[0m\u001b[0;34m\u001b[0m\u001b[0;34m\u001b[0m\u001b[0m\n\u001b[1;32m    377\u001b[0m \u001b[0;34m\u001b[0m\u001b[0m\n",
      "\u001b[0;32m~/work/apg/ce_apg.py\u001b[0m in \u001b[0;36m<listcomp>\u001b[0;34m(.0)\u001b[0m\n\u001b[1;32m    373\u001b[0m         \u001b[0mpolicy_params_with_noise\u001b[0m\u001b[0;34m,\u001b[0m \u001b[0mrewards_lists\u001b[0m \u001b[0;34m=\u001b[0m \u001b[0mdo_apg_pmap\u001b[0m\u001b[0;34m(\u001b[0m\u001b[0mapg_epochs\u001b[0m\u001b[0;34m,\u001b[0m \u001b[0menv_fn\u001b[0m\u001b[0;34m,\u001b[0m \u001b[0mpolicy\u001b[0m\u001b[0;34m.\u001b[0m\u001b[0mapply\u001b[0m\u001b[0;34m,\u001b[0m \u001b[0mnormalizer_params\u001b[0m\u001b[0;34m,\u001b[0m \u001b[0mpolicy_params_with_noise\u001b[0m\u001b[0;34m,\u001b[0m \u001b[0mtrain_keys\u001b[0m\u001b[0;34m,\u001b[0m \u001b[0mlearning_rate\u001b[0m\u001b[0;34m,\u001b[0m \u001b[0mepisode_length\u001b[0m\u001b[0;34m,\u001b[0m \u001b[0maction_repeat\u001b[0m\u001b[0;34m,\u001b[0m \u001b[0mnormalize_observations\u001b[0m\u001b[0;34m,\u001b[0m \u001b[0mbatch_size\u001b[0m\u001b[0;34m,\u001b[0m \u001b[0mclipping\u001b[0m\u001b[0;34m,\u001b[0m \u001b[0mtruncation_length\u001b[0m\u001b[0;34m)\u001b[0m\u001b[0;34m\u001b[0m\u001b[0;34m\u001b[0m\u001b[0m\n\u001b[1;32m    374\u001b[0m \u001b[0;34m\u001b[0m\u001b[0m\n\u001b[0;32m--> 375\u001b[0;31m         \u001b[0mreward_sums\u001b[0m \u001b[0;34m=\u001b[0m \u001b[0;34m[\u001b[0m\u001b[0mjnp\u001b[0m\u001b[0;34m.\u001b[0m\u001b[0mmean\u001b[0m\u001b[0;34m(\u001b[0m\u001b[0mrew\u001b[0m\u001b[0;34m[\u001b[0m\u001b[0;34m-\u001b[0m\u001b[0;36m5\u001b[0m\u001b[0;34m:\u001b[0m\u001b[0;34m]\u001b[0m\u001b[0;34m)\u001b[0m \u001b[0;32mfor\u001b[0m \u001b[0mrew\u001b[0m \u001b[0;32min\u001b[0m \u001b[0mrewards_lists\u001b[0m\u001b[0;34m]\u001b[0m\u001b[0;34m\u001b[0m\u001b[0;34m\u001b[0m\u001b[0m\n\u001b[0m\u001b[1;32m    376\u001b[0m         \u001b[0mtop_idx\u001b[0m \u001b[0;34m=\u001b[0m \u001b[0msorted\u001b[0m\u001b[0;34m(\u001b[0m\u001b[0mrange\u001b[0m\u001b[0;34m(\u001b[0m\u001b[0mlen\u001b[0m\u001b[0;34m(\u001b[0m\u001b[0mreward_sums\u001b[0m\u001b[0;34m)\u001b[0m\u001b[0;34m)\u001b[0m\u001b[0;34m,\u001b[0m \u001b[0mkey\u001b[0m\u001b[0;34m=\u001b[0m\u001b[0;32mlambda\u001b[0m \u001b[0mk\u001b[0m\u001b[0;34m:\u001b[0m \u001b[0mreward_sums\u001b[0m\u001b[0;34m[\u001b[0m\u001b[0mk\u001b[0m\u001b[0;34m]\u001b[0m\u001b[0;34m,\u001b[0m \u001b[0mreverse\u001b[0m\u001b[0;34m=\u001b[0m\u001b[0;32mTrue\u001b[0m\u001b[0;34m)\u001b[0m\u001b[0;34m\u001b[0m\u001b[0;34m\u001b[0m\u001b[0m\n\u001b[1;32m    377\u001b[0m \u001b[0;34m\u001b[0m\u001b[0m\n",
      "\u001b[0;32m~/anaconda3/envs/brax/lib/python3.9/site-packages/jax/_src/numpy/lax_numpy.py\u001b[0m in \u001b[0;36mmean\u001b[0;34m(a, axis, dtype, out, keepdims, where)\u001b[0m\n\u001b[1;32m   2653\u001b[0m def mean(a, axis: Optional[Union[int, Tuple[int, ...]]] = None, dtype=None,\n\u001b[1;32m   2654\u001b[0m          out=None, keepdims=False, *, where=None):\n\u001b[0;32m-> 2655\u001b[0;31m   return _mean(a, _ensure_optional_axes(axis), dtype, out, keepdims,\n\u001b[0m\u001b[1;32m   2656\u001b[0m                where=where)\n\u001b[1;32m   2657\u001b[0m \u001b[0;34m\u001b[0m\u001b[0m\n",
      "\u001b[0;31mKeyboardInterrupt\u001b[0m: "
     ]
    }
   ],
   "source": [
    "env_name = \"reacher\"  # @param ['ant', 'humanoid', 'fetch', 'grasp', 'halfcheetah', 'walker2d, 'ur5e', 'reacher', bball_1dof]\n",
    "\n",
    "#for env_name in [\"inverted_pendulum_swingup\" , \"acrobot\", \"inverted_double_pendulum_swingup\"]:  # @param ['ant', 'humanoid', 'fetch', 'grasp', 'halfcheetah', 'walker2d, 'ur5e', 'reacher', bball_1dof]\n",
    "for env_name in ['acrobot']:\n",
    "    episode_length = 500\n",
    "    action_repeat = 1\n",
    "    env_fn = create_fn(env_name = env_name, action_repeat=action_repeat, batch_size=None, auto_reset=False)\n",
    "    env = env_fn()\n",
    "\n",
    "    policy_size = int(2**jnp.ceil(jnp.log2(env.observation_size*4)))\n",
    "    print(policy_size)\n",
    "    policy = GruController(env.observation_size, env.action_size, policy_size)\n",
    "    pickle.dump(policy, open(f\"{save_dir}/{env_name}_policy\", 'wb'))\n",
    "    \n",
    "    for i in range(8):\n",
    "        inference_fn, params, rewards = cem_apg(env_fn,\n",
    "                                                20,\n",
    "                                                key=jax.random.PRNGKey(i),\n",
    "                                                episode_length = episode_length,\n",
    "                                                action_repeat = action_repeat,\n",
    "                                                batch_size = 1,\n",
    "                                                truncation_length = None,\n",
    "                                                learning_rate = 5e-4,\n",
    "                                                clipping = 1e9,\n",
    "                                                initial_std = 0.05,\n",
    "                                                eps = 0.0,\n",
    "                                                normalize_observations=True,\n",
    "                                                policy = policy\n",
    "                                               )\n",
    "\n",
    "        model.save_params(f\"{save_dir}/{env_name}_params_{i}\", params)\n",
    "        pickle.dump(rewards, open(f\"{save_dir}/{env_name}_rewards.pkl{i}\", \"wb\"))\n",
    "\n"
   ]
  },
  {
   "cell_type": "code",
   "execution_count": null,
   "metadata": {},
   "outputs": [],
   "source": [
    "from brax.io import model\n",
    "import ce_apg\n",
    "\n",
    "model.save_params('/tmp/params', params)\n",
    "inference_fn = ce_apg.make_inference_fn(\n",
    "    env.observation_size, env.action_size, True, policy)\n",
    "params = model.load_params('/tmp/params')\n",
    "\n",
    "jit_env_reset = jax.jit(env.reset)\n",
    "jit_env_step = jax.jit(env.step)\n",
    "jit_inference_fn = jax.jit(inference_fn)\n",
    "\n",
    "rollout = []\n",
    "rng = jax.random.PRNGKey(seed=5)\n",
    "state = jit_env_reset(rng=rng)\n",
    "h0 = np.zeros_like(state.obs)\n",
    "h = h0\n",
    "\n",
    "while not state.done:\n",
    "  rollout.append(state)\n",
    "  h, act = jit_inference_fn(params, h, state.obs)\n",
    "  state = jit_env_step(state, act)\n",
    "\n",
    "HTML(html.render(env.sys, [s.qp for s in rollout]))"
   ]
  },
  {
   "cell_type": "code",
   "execution_count": null,
   "metadata": {},
   "outputs": [],
   "source": [
    "env_name = \"acrobot\"  # @param ['ant', 'humanoid', 'fetch', 'grasp', 'halfcheetah', 'walker2d, 'ur5e', 'reacher', bball_1dof]\n",
    "\n",
    "episode_length = 500\n",
    "action_repeat = 1\n",
    "env_fn = create_fn(env_name = env_name, action_repeat=action_repeat, batch_size=None, auto_reset=False)\n",
    "env = env_fn()\n",
    "\n",
    "\n",
    "\n",
    "policy_size = int(2**jnp.ceil(jnp.log2(env.observation_size*4)))\n",
    "print(policy_size)\n",
    "policy = GruController(env.observation_size, env.action_size, 32)\n",
    "\n",
    "for i in range(8):\n",
    "    normalizer_params, policy_params, rewards = cem_apg(env_fn,\n",
    "                                                        200,\n",
    "                                                        key=jax.random.PRNGKey(i),\n",
    "                                                        episode_length = episode_length,\n",
    "                                                        action_repeat = action_repeat,\n",
    "                                                        apg_epochs = 75,\n",
    "                                                        cem_epochs = 1,\n",
    "                                                        batch_size = 1,\n",
    "                                                        truncation_length = None,\n",
    "                                                        learning_rate = 5e-4,\n",
    "                                                        clipping = 1e9,\n",
    "                                                        initial_std = 0.01,\n",
    "                                                        num_elite = 8,\n",
    "                                                        eps = 0.0,\n",
    "                                                        normalize_observations=True,\n",
    "                                                        policy = policy\n",
    "                                                       )\n",
    "\n",
    "\n",
    "\n",
    "    pickle.dump(policy_params, open(f\"{save_dir}/{env_name}_policy{i}.pkl\", 'wb'))\n",
    "    pickle.dump(normalizer_params, open(f\"{save_dir}/{env_name}_normalize{i}.pkl\", 'wb'))\n",
    "    pickle.dump(rewards, open(f\"{save_dir}/{env_name}_rewards.pkl{i}\", 'wb'))"
   ]
  },
  {
   "cell_type": "code",
   "execution_count": null,
   "metadata": {},
   "outputs": [],
   "source": [
    "env_name = \"inverted_double_pendulum_swingup\"  # @param ['ant', 'humanoid', 'fetch', 'grasp', 'halfcheetah', 'walker2d, 'ur5e', 'reacher', bball_1dof]\n",
    "\n",
    "episode_length = 500\n",
    "action_repeat = 1\n",
    "env_fn = create_fn(env_name = env_name, action_repeat=action_repeat, batch_size=None, auto_reset=False)\n",
    "env = env_fn()\n",
    "\n",
    "\n",
    "\n",
    "policy_size = int(2**jnp.ceil(jnp.log2(env.observation_size*4)))\n",
    "print(policy_size)\n",
    "policy = GruController(env.observation_size, env.action_size, 128)\n",
    "\n",
    "for i in range(8):\n",
    "    normalizer_params, policy_params, rewards = cem_apg(env_fn,\n",
    "                                                        200,\n",
    "                                                        key=jax.random.PRNGKey(i),\n",
    "                                                        episode_length = episode_length,\n",
    "                                                        action_repeat = action_repeat,\n",
    "                                                        apg_epochs = 75,\n",
    "                                                        cem_epochs = 1,\n",
    "                                                        batch_size = 1,\n",
    "                                                        truncation_length = None,\n",
    "                                                        learning_rate = 5e-4,\n",
    "                                                        clipping = 1e9,\n",
    "                                                        initial_std = 0.01,\n",
    "                                                        num_elite = 8,\n",
    "                                                        eps = 0.0,\n",
    "                                                        normalize_observations=True,\n",
    "                                                        policy = policy\n",
    "                                                       )\n",
    "\n",
    "\n",
    "\n",
    "    pickle.dump(policy_params, open(f\"{save_dir}/{env_name}_policy{i}.pkl\", 'wb'))\n",
    "    pickle.dump(normalizer_params, open(f\"{save_dir}/{env_name}_normalize{i}.pkl\", 'wb'))\n",
    "    pickle.dump(rewards, open(f\"{save_dir}/{env_name}_rewards.pkl{i}\", 'wb'))"
   ]
  },
  {
   "cell_type": "code",
   "execution_count": null,
   "metadata": {},
   "outputs": [],
   "source": [
    "import pickle\n",
    "pickle.dump(policy_params2, open(\"inverted_double_pendulum_swingup.pickle\", 'wb'))"
   ]
  },
  {
   "cell_type": "code",
   "execution_count": null,
   "metadata": {},
   "outputs": [],
   "source": [
    "env_name = \"inverted_double_pendulum_swingup\"\n",
    "pickle.dump(policy_params2, open(f\"{env_name}_policy.pkl\", 'wb'))\n",
    "pickle.dump(normalizer_params2, open(f\"{env_name}_normalize.pkl\", 'wb'))\n",
    "pickle.dump(rewards2, open(f\"{env_name}_rewards.pkl\", 'wb'))"
   ]
  },
  {
   "cell_type": "code",
   "execution_count": null,
   "metadata": {},
   "outputs": [],
   "source": []
  }
 ],
 "metadata": {
  "kernelspec": {
   "display_name": "Brax",
   "language": "python",
   "name": "brax"
  },
  "language_info": {
   "codemirror_mode": {
    "name": "ipython",
    "version": 3
   },
   "file_extension": ".py",
   "mimetype": "text/x-python",
   "name": "python",
   "nbconvert_exporter": "python",
   "pygments_lexer": "ipython3",
   "version": "3.9.9"
  }
 },
 "nbformat": 4,
 "nbformat_minor": 4
}
