{
 "cells": [
  {
   "cell_type": "code",
   "execution_count": 1,
   "metadata": {},
   "outputs": [],
   "source": [
    "from absl.testing import absltest\n",
    "from absl.testing import parameterized\n",
    "from brax import envs\n",
    "from brax.training import ppo\n",
    "from IPython.display import clear_output\n",
    "import matplotlib.pyplot as plt\n",
    "import pickle\n",
    "\n",
    "episode_length = 500\n",
    "action_repeat = 1\n",
    "env_name = \"acrobot\"\n",
    "save_dir = \"save_tune_ppo\"\n",
    "\n",
    "\n",
    "discounting_list = [0.95, 0.99, 0.994]\n",
    "batch_size_list = [64, 256, 1024]\n",
    "entropy_cost_list = [1e-2, 1e-3]\n",
    "\n",
    "\n",
    "from itertools import product"
   ]
  },
  {
   "cell_type": "code",
   "execution_count": 9,
   "metadata": {},
   "outputs": [
    {
     "data": {
      "image/png": "[encoded data removed]",
      "text/plain": [
       "<Figure size 432x288 with 1 Axes>"
      ]
     },
     "metadata": {
      "needs_background": "light"
     },
     "output_type": "display_data"
    }
   ],
   "source": [
    "hyper_params = list(product(entropy_cost_list, discounting_list, batch_size_list))\n",
    "all_rewards = []\n",
    "for i, (entropy_cost, discounting, batch_size) in enumerate(hyper_params):\n",
    "    xdata = []\n",
    "    ydata = []\n",
    "\n",
    "    def progress(num_steps, metrics):\n",
    "      xdata.append(num_steps)\n",
    "      ydata.append(metrics['eval/episode_reward'])\n",
    "      clear_output(wait=True)\n",
    "      plt.xlabel('# environment steps')\n",
    "      plt.ylabel('reward per episode')\n",
    "      plt.plot(xdata, ydata)\n",
    "      plt.show()\n",
    "\n",
    "    inference_fn, params, metrics = ppo.train(\n",
    "        environment_fn=envs.create_fn(env_name, auto_reset=True),\n",
    "        num_timesteps = 80_000_000, log_frequency = 20,\n",
    "        reward_scaling = 1, episode_length = episode_length, normalize_observations = True,\n",
    "        action_repeat = action_repeat, unroll_length = 50, num_minibatches = 32,\n",
    "        num_update_epochs = 8, discounting = discounting, learning_rate = 3e-4,\n",
    "        entropy_cost = entropy_cost, num_envs = 512, batch_size = batch_size, seed = i,\n",
    "        progress_fn = progress\n",
    "    )\n",
    "    #pickle.dump(params, open(f\"{save_dir}/{env_name}_params{i}.pkl\", 'wb'))\n",
    "    #pickle.dump(metrics, open(f\"{save_dir}/{env_name}_metrics{i}.pkl\", 'wb'))\n",
    "    #pickle.dump(ydata, open(f\"{save_dir}/{env_name}_rewards.pkl{i}\", 'wb'))\n",
    "    all_rewards.append(metrics['eval/episode_reward'].item())\n",
    "\n",
    "top_idx = sorted(range(len(all_rewards)), key=lambda k: all_rewards[k], reverse=True)\n",
    "print(all_rewards[top_idx[0]])\n",
    "print(hyper_params[top_idx[0]])"
   ]
  },
  {
   "cell_type": "code",
   "execution_count": 22,
   "metadata": {},
   "outputs": [
    {
     "name": "stdout",
     "output_type": "stream",
     "text": [
      "-4461.755859375\n",
      "(0.001, 0.99, 256)\n"
     ]
    }
   ],
   "source": [
    "top_idx = sorted(range(len(all_rewards)), key=lambda k: all_rewards[k], reverse=True)\n",
    "print(all_rewards[top_idx[0]])\n",
    "print(hyper_params[top_idx[0]])\n"
   ]
  },
  {
   "cell_type": "code",
   "execution_count": 21,
   "metadata": {},
   "outputs": [],
   "source": [
    "for t in hyper_params:\n",
    "    print(t)"
   ]
  },
  {
   "cell_type": "code",
   "execution_count": null,
   "metadata": {},
   "outputs": [],
   "source": []
  }
 ],
 "metadata": {
  "kernelspec": {
   "display_name": "Brax",
   "language": "python",
   "name": "brax"
  },
  "language_info": {
   "codemirror_mode": {
    "name": "ipython",
    "version": 3
   },
   "file_extension": ".py",
   "mimetype": "text/x-python",
   "name": "python",
   "nbconvert_exporter": "python",
   "pygments_lexer": "ipython3",
   "version": "3.9.9"
  }
 },
 "nbformat": 4,
 "nbformat_minor": 4
}
