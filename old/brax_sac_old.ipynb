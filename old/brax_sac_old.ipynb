{
 "cells": [
  {
   "cell_type": "code",
   "execution_count": null,
   "metadata": {},
   "outputs": [],
   "source": [
    "from absl.testing import absltest\n",
    "from absl.testing import parameterized\n",
    "from brax import envs\n",
    "from brax.training import sac\n",
    "\n",
    "episode_length = 500\n",
    "action_repeat = 1\n",
    "env_name = 'acrobot'\n",
    "\n",
    "inference_fn, params, metrics = sac.train(\n",
    "    environment_fn=envs.create_fn(env_name, auto_reset=True),\n",
    "    num_timesteps = 10_000_000,\n",
    "    episode_length = episode_length, normalize_observations = True,\n",
    "    action_repeat = action_repeat,\n",
    "    discounting = 0.99, learning_rate = 3e-4,\n",
    "    num_envs = 128, batch_size = 256, seed = 1\n",
    ")"
   ]
  },
  {
   "cell_type": "code",
   "execution_count": null,
   "metadata": {},
   "outputs": [],
   "source": [
    "import jax\n",
    "import jax.numpy as jnp\n",
    "env = envs.create_fn(env_name, auto_reset=True)()\n",
    "key = jax.random.PRNGKey(0)\n",
    "reset_key, inference_key = jax.random.split(key)\n",
    "state = env.reset(reset_key)\n",
    "obs = state.obs "
   ]
  },
  {
   "cell_type": "code",
   "execution_count": null,
   "metadata": {},
   "outputs": [],
   "source": [
    "import brax.jumpy as jp\n",
    "import matplotlib.pyplot as plt\n",
    "\n",
    "\n",
    "@jax.jit\n",
    "def do_rnn_rollout(policy_params, key):\n",
    "    init_state = env.reset(key)\n",
    "\n",
    "    def do_one_step(carry, step_idx):\n",
    "        state, policy_params, key = carry\n",
    "        act_key, key = jax.random.split(key)\n",
    "        actions = inference_fn(params, state.obs, act_key)\n",
    "        nstate = env.step(state, actions)    \n",
    "        return (nstate, policy_params, key), (nstate.reward,state.obs, actions, nstate)\n",
    "\n",
    "\n",
    "    _, (rewards, obs, acts, states) = jp.scan(\n",
    "        do_one_step, (init_state, policy_params, key),\n",
    "        (jnp.array(range(episode_length // action_repeat))),\n",
    "        length=episode_length // action_repeat)\n",
    "\n",
    "    return rewards, obs, acts, states"
   ]
  },
  {
   "cell_type": "code",
   "execution_count": null,
   "metadata": {},
   "outputs": [],
   "source": [
    "key, reset_key = jax.random.split(key)\n",
    "(rewards, obs, acts, states) = do_rnn_rollout(params, reset_key)\n",
    "\n",
    "done_idx = jnp.where(states.done, size=1)[0].item()\n",
    "if done_idx == 0:\n",
    "    done_idx = rewards.shape[0]\n",
    "rewards_sum = jnp.sum(rewards[:done_idx])\n",
    "\n",
    "plt.plot(obs);\n",
    "plt.figure()\n",
    "plt.plot(acts);\n",
    "print(rewards_sum)\n",
    "print(states.done)"
   ]
  },
  {
   "cell_type": "code",
   "execution_count": null,
   "metadata": {},
   "outputs": [],
   "source": [
    "from IPython.display import HTML\n",
    "from brax.io import html\n",
    "\n",
    "\n",
    "\n",
    "def visualize(sys, qps, height=480):\n",
    "  \"\"\"Renders a 3D visualization of the environment.\"\"\"\n",
    "  return HTML(html.render(sys, \n",
    "                          qps, height=height))\n",
    "\n",
    "qp_flat, qp_def = jax.tree_flatten(states.qp)\n",
    "\n",
    "qp_list = []\n",
    "\n",
    "for i in range(qp_flat[0].shape[0]):\n",
    "    qpc=[]\n",
    "    for thing in qp_flat:\n",
    "        qpc.append(thing[i,:])\n",
    "    qp_list.append(jax.tree_unflatten(qp_def, qpc))\n",
    "    \n",
    "\n",
    "visualize(env.sys, qp_list, height=800)"
   ]
  },
  {
   "cell_type": "code",
   "execution_count": null,
   "metadata": {},
   "outputs": [],
   "source": []
  }
 ],
 "metadata": {
  "kernelspec": {
   "display_name": "Brax",
   "language": "python",
   "name": "brax"
  },
  "language_info": {
   "codemirror_mode": {
    "name": "ipython",
    "version": 3
   },
   "file_extension": ".py",
   "mimetype": "text/x-python",
   "name": "python",
   "nbconvert_exporter": "python",
   "pygments_lexer": "ipython3",
   "version": "3.9.9"
  }
 },
 "nbformat": 4,
 "nbformat_minor": 4
}
